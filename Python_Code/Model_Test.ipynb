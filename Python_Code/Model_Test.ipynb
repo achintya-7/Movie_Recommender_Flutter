{
 "cells": [
  {
   "cell_type": "code",
   "execution_count": 12,
   "metadata": {},
   "outputs": [],
   "source": [
    "from docarray import Document, DocumentArray\n",
    "from jina import Client, Executor, Flow, requests"
   ]
  },
  {
   "cell_type": "code",
   "execution_count": 13,
   "metadata": {},
   "outputs": [],
   "source": [
    "# import pandas as pd\n",
    "# df = pd.read_csv('data/Movies.csv')\n",
    "# df_new = df.head(100)"
   ]
  },
  {
   "cell_type": "code",
   "execution_count": 14,
   "metadata": {},
   "outputs": [],
   "source": [
    "# df_new.tail()"
   ]
  },
  {
   "cell_type": "code",
   "execution_count": 15,
   "metadata": {},
   "outputs": [],
   "source": [
    "# df_new.to_csv('Movies_Reduced.csv')"
   ]
  },
  {
   "cell_type": "code",
   "execution_count": 16,
   "metadata": {},
   "outputs": [
    {
     "name": "stdout",
     "output_type": "stream",
     "text": [
      "A story about a beautiful street musician suffering from memory loss and a disheartened neuroscientist intent on helping her, bringing together the city of New Orleans and the jazz that made it famous.Drama|MusicOf Mind and Music\n"
     ]
    },
    {
     "name": "stderr",
     "output_type": "stream",
     "text": [
      "\u001b[1;33mDeprecationWarning: Seeding based on hashing is deprecated\n",
      "since Python 3.9 and will be removed in a subsequent version. The only \n",
      "supported seed types are: None, int, float, str, bytes, and bytearray.\u001b[0m \u001b[1;30m(raised from /home/achintya/.local/lib/python3.9/site-packages/docarray/array/mixins/sample.py:21)\u001b[0m\n"
     ]
    }
   ],
   "source": [
    "from random import randint\n",
    "from docarray.document.generators import from_csv\n",
    "\n",
    "with open(\"data/Movies_Reduced.csv\"\n",
    "          ) as file:\n",
    "    movies = DocumentArray(from_csv(file, field_resolver={'Summary': 'text'}))\n",
    "\n",
    "movies = movies.shuffle(seed=randint)\n",
    "\n",
    "for i in range(len(movies)):\n",
    "    movies[i].text = movies[i].text + f\"{ movies[i].tags['Genres'] }\" + f\"{ movies[i].tags['Title']}\"\n",
    "\n",
    "print(movies[0].text)\n"
   ]
  },
  {
   "cell_type": "code",
   "execution_count": 17,
   "metadata": {},
   "outputs": [],
   "source": [
    "docs = DocumentArray([\n",
    "    Document(text=\"I’m Good At Everything, Except The Things I Can’t Do.\"),\n",
    "    Document(\n",
    "        text=\n",
    "        \"I Don’t Have A Home To Go Back To. In Here, I Stand A Chance At Least. But Out There? I Got Nothing Out There.\"\n",
    "    ),\n",
    "    Document(text=\"This Is Hell. What Are The Rules In Hell?\"),\n",
    "    Document(\n",
    "        text=\n",
    "        \"Do You Know What Someone With No Money Has In Common With Someone With Too Much Money? Living Is No Fun For Them.\"\n",
    "    ),\n",
    "    Document(\n",
    "        text=\n",
    "        \"You Don’t Trust People Here Because You Can. You Do It Because You Don’t Have Anybody Else.\"\n",
    "    ),\n",
    "])\n"
   ]
  },
  {
   "cell_type": "code",
   "execution_count": 18,
   "metadata": {},
   "outputs": [],
   "source": [
    "model = \"sentence-transformers/paraphrase-distilroberta-base-v1\"\n",
    "model2 = \"en_core_web_md\""
   ]
  },
  {
   "cell_type": "code",
   "execution_count": 19,
   "metadata": {},
   "outputs": [],
   "source": [
    "flow = (\n",
    "    Flow(port_expose='12345', protocol='http').add(\n",
    "        uses=\"jinahub://TransformerTorchEncoder\",\n",
    "        uses_with={\n",
    "            \"pretrained_model_name_or_path\": model\n",
    "        },\n",
    "        name=\"encoder\",\n",
    "        install_requirements=True).add(\n",
    "            uses=\"jinahub://SimpleIndexer/latest\",\n",
    "            uses_metas={\"workspace\": \"workspace\"},\n",
    "            volumes=\"./workspace:/workspace/workspace\",\n",
    "            name=\"indexer\"))\n"
   ]
  },
  {
   "cell_type": "code",
   "execution_count": 20,
   "metadata": {},
   "outputs": [
    {
     "data": {
      "text/html": [
       "<pre style=\"white-space:pre;overflow-x:auto;line-height:normal;font-family:Menlo,'DejaVu Sans Mono',consolas,'Courier New',monospace\"></pre>\n"
      ],
      "text/plain": []
     },
     "metadata": {},
     "output_type": "display_data"
    },
    {
     "data": {
      "text/html": [
       "<pre style=\"white-space:pre;overflow-x:auto;line-height:normal;font-family:Menlo,'DejaVu Sans Mono',consolas,'Courier New',monospace\"></pre>\n"
      ],
      "text/plain": []
     },
     "metadata": {},
     "output_type": "display_data"
    },
    {
     "data": {
      "text/html": [
       "<pre style=\"white-space:pre;overflow-x:auto;line-height:normal;font-family:Menlo,'DejaVu Sans Mono',consolas,'Courier New',monospace\"></pre>\n"
      ],
      "text/plain": []
     },
     "metadata": {},
     "output_type": "display_data"
    },
    {
     "data": {
      "text/html": [
       "<pre style=\"white-space:pre;overflow-x:auto;line-height:normal;font-family:Menlo,'DejaVu Sans Mono',consolas,'Courier New',monospace\"></pre>\n"
      ],
      "text/plain": []
     },
     "metadata": {},
     "output_type": "display_data"
    },
    {
     "data": {
      "text/html": [
       "<pre style=\"white-space:pre;overflow-x:auto;line-height:normal;font-family:Menlo,'DejaVu Sans Mono',consolas,'Courier New',monospace\"></pre>\n"
      ],
      "text/plain": []
     },
     "metadata": {},
     "output_type": "display_data"
    },
    {
     "data": {
      "text/html": [
       "<pre style=\"white-space:pre;overflow-x:auto;line-height:normal;font-family:Menlo,'DejaVu Sans Mono',consolas,'Courier New',monospace\"></pre>\n"
      ],
      "text/plain": []
     },
     "metadata": {},
     "output_type": "display_data"
    },
    {
     "name": "stdout",
     "output_type": "stream",
     "text": [
      "\u001b[32m⠙\u001b[0m 1/3 waiting \u001b[33mencoder gateway\u001b[0m to be ready...                                      "
     ]
    },
    {
     "name": "stderr",
     "output_type": "stream",
     "text": [
      "\u001b[1;33mDeprecationWarning: The loop argument is deprecated since Python 3.8, and scheduled for removal in Python 3.10.\u001b[0m \u001b[1;30m(raised from /usr/lib/python3.9/asyncio/base_events.py:1460)\u001b[0m\n",
      "\u001b[1;33mDeprecationWarning: The loop argument is deprecated since Python 3.8, and scheduled for removal in Python 3.10.\u001b[0m \u001b[1;30m(raised from /usr/lib/python3.9/asyncio/base_events.py:1518)\u001b[0m\n"
     ]
    },
    {
     "name": "stdout",
     "output_type": "stream",
     "text": [
      "           Flow@4255[I]:\u001b[32m🎉 Flow is ready to use!\u001b[0m                                           \n",
      "\t🔗 Protocol: \t\t\u001b[1mHTTP\u001b[0m\n",
      "\t🏠 Local access:\t\u001b[4m\u001b[36m0.0.0.0:12345\u001b[0m\n",
      "\t🔒 Private network:\t\u001b[4m\u001b[36m192.168.1.9:12345\u001b[0m\n",
      "\t🌐 Public address:\t\u001b[4m\u001b[36mNone:12345\u001b[0m\n",
      "\t💬 Swagger UI:\t\t\u001b[4m\u001b[36mhttp://localhost:12345/docs\u001b[0m\n",
      "\t📚 Redoc:\t\t\u001b[4m\u001b[36mhttp://localhost:12345/redoc\u001b[0m\n",
      "\t💬 GraphQL UI:\t\t\u001b[4m\u001b[36mhttp://localhost:12345/graphql\u001b[0m\u001b[0m\n",
      "\u001b[32m⠹\u001b[0m       DONE \u001b[33m━━━━━━━━━━━━━━━━━━━━━━━━━━━━━━━━━━━━━━━━\u001b[0m\u001b[33m╸\u001b[0m\u001b[2m\u001b[33m\u001b[0m \u001b[36m0:00:15\u001b[0m 100% ETA: 0 seconds \u001b[K80 steps done in 15 seconds\n"
     ]
    }
   ],
   "source": [
    "with flow as f:\n",
    "    f.post(on=\"/index\", inputs=movies, show_progress=True)"
   ]
  },
  {
   "cell_type": "code",
   "execution_count": 21,
   "metadata": {},
   "outputs": [],
   "source": [
    "query = \"Lets GOOOO!\""
   ]
  },
  {
   "cell_type": "code",
   "execution_count": 22,
   "metadata": {},
   "outputs": [
    {
     "data": {
      "text/html": [
       "<pre style=\"white-space:pre;overflow-x:auto;line-height:normal;font-family:Menlo,'DejaVu Sans Mono',consolas,'Courier New',monospace\"></pre>\n"
      ],
      "text/plain": []
     },
     "metadata": {},
     "output_type": "display_data"
    },
    {
     "data": {
      "text/html": [
       "<pre style=\"white-space:pre;overflow-x:auto;line-height:normal;font-family:Menlo,'DejaVu Sans Mono',consolas,'Courier New',monospace\"></pre>\n"
      ],
      "text/plain": []
     },
     "metadata": {},
     "output_type": "display_data"
    },
    {
     "name": "stdout",
     "output_type": "stream",
     "text": [
      "\u001b[32m⠏\u001b[0m 1/3 waiting \u001b[33mencoder gateway\u001b[0m to be ready...                                      "
     ]
    },
    {
     "name": "stderr",
     "output_type": "stream",
     "text": [
      "\u001b[1;33mDeprecationWarning: The loop argument is deprecated since Python 3.8, and scheduled for removal in Python 3.10.\u001b[0m \u001b[1;30m(raised from /usr/lib/python3.9/asyncio/base_events.py:1460)\u001b[0m\n",
      "\u001b[1;33mDeprecationWarning: The loop argument is deprecated since Python 3.8, and scheduled for removal in Python 3.10.\u001b[0m \u001b[1;30m(raised from /usr/lib/python3.9/asyncio/base_events.py:1518)\u001b[0m\n"
     ]
    },
    {
     "name": "stdout",
     "output_type": "stream",
     "text": [
      "           Flow@4255[I]:\u001b[32m🎉 Flow is ready to use!\u001b[0m                                           \n",
      "\t🔗 Protocol: \t\t\u001b[1mHTTP\u001b[0m\n",
      "\t🏠 Local access:\t\u001b[4m\u001b[36m0.0.0.0:12345\u001b[0m\n",
      "\t🔒 Private network:\t\u001b[4m\u001b[36m192.168.1.9:12345\u001b[0m\n",
      "\t🌐 Public address:\t\u001b[4m\u001b[36m122.161.48.234:12345\u001b[0m\n",
      "\t💬 Swagger UI:\t\t\u001b[4m\u001b[36mhttp://localhost:12345/docs\u001b[0m\n",
      "\t📚 Redoc:\t\t\u001b[4m\u001b[36mhttp://localhost:12345/redoc\u001b[0m\n",
      "\t💬 GraphQL UI:\t\t\u001b[4m\u001b[36mhttp://localhost:12345/graphql\u001b[0m\u001b[0m\n",
      "\u001b[32m⠼\u001b[0m       DONE \u001b[33m━━\u001b[0m\u001b[33m╸\u001b[0m\u001b[2m\u001b[33m━━━━━━━━━━━━━━━━━━━━━━━━━━━━━━━━━━━━━━\u001b[0m \u001b[36m0:00:00\u001b[0m  9.5 step/s . \u001b[K2 steps done in 0 seconds\n"
     ]
    }
   ],
   "source": [
    "with flow as f:\n",
    "    f.post(on=\"/\", show_progress=True)\n",
    "    input=query\n",
    "    f.cors = True\n",
    "    f.block()"
   ]
  },
  {
   "cell_type": "code",
   "execution_count": null,
   "metadata": {},
   "outputs": [],
   "source": [
    "with flow as f:\n",
    "    query = Document(text=\"Money\")\n",
    "    response = f.search(inputs=query, return_result=True)"
   ]
  },
  {
   "cell_type": "code",
   "execution_count": 7,
   "metadata": {},
   "outputs": [],
   "source": [
    "def print_search_results(response, number=5):\n",
    "    matches = response[0].matches\n",
    "\n",
    "    print(matches)\n",
    "\n",
    "    print(\"\\nYour search results\")\n",
    "    print(\"===================\\n\")\n",
    "\n",
    "    for match in matches[0:number]:\n",
    "        print(match)\n",
    "        print(\"-----------\")\n",
    "        print(f\"= {match.text}\\n\")\n"
   ]
  },
  {
   "cell_type": "code",
   "execution_count": 36,
   "metadata": {},
   "outputs": [],
   "source": [
    "# query = Document(text=input(\"Please enter your search term: \"))\n",
    "query=Document(text=\"Roman\")"
   ]
  },
  {
   "cell_type": "code",
   "execution_count": 37,
   "metadata": {},
   "outputs": [
    {
     "data": {
      "text/html": [
       "<pre style=\"white-space:pre;overflow-x:auto;line-height:normal;font-family:Menlo,'DejaVu Sans Mono',consolas,'Courier New',monospace\"><span style=\"color: #008000; text-decoration-color: #008000\">⠋</span> Fetching <span style=\"font-weight: bold\">SimpleIndexer</span> from Jina Hub ...\n",
       "</pre>\n"
      ],
      "text/plain": [
       "\u001b[32m⠋\u001b[0m Fetching \u001b[1mSimpleIndexer\u001b[0m from Jina Hub ...\n"
      ]
     },
     "metadata": {},
     "output_type": "display_data"
    },
    {
     "data": {
      "text/html": [
       "<pre style=\"white-space:pre;overflow-x:auto;line-height:normal;font-family:Menlo,'DejaVu Sans Mono',consolas,'Courier New',monospace\"></pre>\n"
      ],
      "text/plain": []
     },
     "metadata": {},
     "output_type": "display_data"
    },
    {
     "name": "stdout",
     "output_type": "stream",
     "text": [
      "\u001b[32m⠙\u001b[0m 0/3 waiting \u001b[33mencoder indexer gateway\u001b[0m to be ready...                              "
     ]
    },
    {
     "name": "stderr",
     "output_type": "stream",
     "text": [
      "\u001b[1;33mDeprecationWarning: The loop argument is deprecated since Python 3.8, and scheduled for removal in Python 3.10.\u001b[0m \u001b[1;30m(raised from /usr/lib/python3.9/asyncio/base_events.py:1460)\u001b[0m\n",
      "\u001b[1;33mDeprecationWarning: The loop argument is deprecated since Python 3.8, and scheduled for removal in Python 3.10.\u001b[0m \u001b[1;30m(raised from /usr/lib/python3.9/asyncio/base_events.py:1518)\u001b[0m\n"
     ]
    },
    {
     "name": "stdout",
     "output_type": "stream",
     "text": [
      "\u001b[32m⠹\u001b[0m 1/3 waiting \u001b[33mencoder indexer\u001b[0m to be ready...                                        indexer/rep-0@140510[I]:\u001b[0m\n",
      "  indexer/rep-0@140510[I]:\u001b[38;5;15mMMMMMMMMMMMMMMMMMMMMMMMMMMMMMM\u001b[38;5;224mM\u001b[38;5;223mM\u001b[38;5;222mWWW\u001b[38;5;223mMM\u001b[38;5;15mMMMMMMMMMMMMMMMMMMMMMMMMMMMMMMMMMMMMMMMMMMM\u001b[0;0m\u001b[0m\n",
      "  indexer/rep-0@140510[I]:\u001b[38;5;15mMMMMMMMMMMMMMMMMMMMMMMMMMMMMM\u001b[38;5;222mWNNNNNNNW\u001b[38;5;230mM\u001b[38;5;15mMMMMMMMMMMMMMMMMMMMMMMMMMMMMMMMMMMMMMMMMM\u001b[0;0m\u001b[0m\n",
      "  indexer/rep-0@140510[I]:\u001b[38;5;15mMMMMMMMMMMMMMMMMMMMMMMMMMMMM\u001b[38;5;223mM\u001b[38;5;222mNNNNNNNNN\u001b[38;5;223mM\u001b[38;5;15mMMMMMMMMMMMMMMMMMMMMMMMMMMMMMMMMMMMMMMMMM\u001b[0;0m\u001b[0m\n",
      "  indexer/rep-0@140510[I]:\u001b[38;5;15mMMMMMMMMMMMMMMMMMMMMMMMMMMMM\u001b[38;5;230mM\u001b[38;5;222mWNNNNNNNN\u001b[38;5;223mM\u001b[38;5;15mMMMMMMMMMMMMMMMMMMMMMMMMMMMMMMMMMMMMMMMMM\u001b[0;0m\u001b[0m\n",
      "  indexer/rep-0@140510[I]:\u001b[38;5;15mMMMMMMMMMMMMMMMMMMMMMMMMMMMMM\u001b[38;5;230mM\u001b[38;5;223mM\u001b[38;5;222mWNNNW\u001b[38;5;223mW\u001b[38;5;230mM\u001b[38;5;15mMMMMMMMMMMMMMMMMMMMMMMMMMMMMMMMMMMMMMMMMMM\u001b[0;0m\u001b[0m\n",
      "  indexer/rep-0@140510[I]:\u001b[38;5;15mMMMMMMMMMMMMMMMMMMMMMMMMMMMMMMMM\u001b[38;5;230mMMM\u001b[38;5;15mMMMMMMMMMMMMMMMMMMMMMMMMMMMMMMMMMMMMMMMMMMMMM\u001b[0;0m\u001b[0m\n",
      "  indexer/rep-0@140510[I]:\u001b[38;5;15mMMMMMMMMMMMM\u001b[38;5;253mW\u001b[38;5;73mxxxxxxxxx\u001b[38;5;109mO\u001b[38;5;15mMMMMM\u001b[38;5;152mN\u001b[38;5;73mxxxxxxxxx\u001b[38;5;110m0\u001b[38;5;15mMMMMM\u001b[38;5;152mK\u001b[38;5;73mddddddx\u001b[38;5;109mk\u001b[38;5;116mK\u001b[38;5;253mW\u001b[38;5;15mMMMMMMMMMMM\u001b[38;5;255mM\u001b[38;5;152mX\u001b[38;5;109mO\u001b[38;5;73mxd\u001b[38;5;67md\u001b[38;5;73mdx\u001b[38;5;109mO\u001b[38;5;152mN\u001b[38;5;255mM\u001b[38;5;15mMMM\u001b[0;0m\u001b[0m\n",
      "  indexer/rep-0@140510[I]:\u001b[38;5;15mMMMMMMMMMMMM\u001b[38;5;152mX\u001b[38;5;66mlllllllll\u001b[38;5;73md\u001b[38;5;15mMMMMM\u001b[38;5;110m0\u001b[38;5;66mlllllllll\u001b[38;5;73mx\u001b[38;5;15mMMMMM\u001b[38;5;109mO\u001b[38;5;66mllllllllll\u001b[38;5;67mo\u001b[38;5;109m0\u001b[38;5;255mM\u001b[38;5;15mMMMMMM\u001b[38;5;255mM\u001b[38;5;109m0\u001b[38;5;67mo\u001b[38;5;66mlllllllll\u001b[38;5;67mo\u001b[38;5;109m0\u001b[38;5;255mM\u001b[38;5;15mM\u001b[0;0m\u001b[0m\n",
      "\u001b[32m⠸\u001b[0m 2/3 waiting \u001b[33mencoder\u001b[0m to be ready...                                                indexer/rep-0@140510[I]:\u001b[38;5;15mMMMMMMMMMMMM\u001b[38;5;152mX\u001b[38;5;66mlllllllll\u001b[38;5;73md\u001b[38;5;15mMMMMM\u001b[38;5;110m0\u001b[38;5;66mlllllllll\u001b[38;5;73mx\u001b[38;5;15mMMMMM\u001b[38;5;109mO\u001b[38;5;66mllllllllllll\u001b[38;5;67mo\u001b[38;5;152mW\u001b[38;5;15mMMMM\u001b[38;5;255mM\u001b[38;5;73md\u001b[38;5;66mlllllllllllll\u001b[38;5;73md\u001b[38;5;255mM\u001b[0;0m\u001b[0m\n",
      "  indexer/rep-0@140510[I]:\u001b[38;5;15mMMMMMMMMMMMM\u001b[38;5;152mX\u001b[38;5;66mlllllllll\u001b[38;5;73md\u001b[38;5;15mMMMMM\u001b[38;5;110m0\u001b[38;5;66mlllllllll\u001b[38;5;73mx\u001b[38;5;15mMMMMM\u001b[38;5;109mO\u001b[38;5;66mlllllllllllll\u001b[38;5;67mo\u001b[38;5;254mM\u001b[38;5;15mMMM\u001b[38;5;110m0\u001b[38;5;66mlllllllllllllll\u001b[38;5;152mK\u001b[0;0m\u001b[0m\n",
      "  indexer/rep-0@140510[I]:\u001b[38;5;15mMMMMMMMMMMMM\u001b[38;5;152mK\u001b[38;5;66mlllllllll\u001b[38;5;73md\u001b[38;5;15mMMMMM\u001b[38;5;110m0\u001b[38;5;66mlllllllll\u001b[38;5;73mx\u001b[38;5;15mMMMMM\u001b[38;5;109mO\u001b[38;5;66mllllllllllllll\u001b[38;5;152mK\u001b[38;5;15mMMM\u001b[38;5;109m0\u001b[38;5;66mlllllllllllllll\u001b[38;5;109mO\u001b[0;0m\u001b[0m\n",
      "  indexer/rep-0@140510[I]:\u001b[38;5;15mMMM\u001b[38;5;255mM\u001b[38;5;224mMMM\u001b[38;5;15mMMMMM\u001b[38;5;152mK\u001b[38;5;66mlllllllll\u001b[38;5;73md\u001b[38;5;15mMMMMM\u001b[38;5;110m0\u001b[38;5;66mlllllllll\u001b[38;5;73mx\u001b[38;5;15mMMMMM\u001b[38;5;109mO\u001b[38;5;66mllllllllllllll\u001b[38;5;110m0\u001b[38;5;15mMMM\u001b[38;5;254mM\u001b[38;5;67mo\u001b[38;5;66mllllllllllllll\u001b[38;5;109mO\u001b[0;0m\u001b[0m\n",
      "  indexer/rep-0@140510[I]:\u001b[38;5;15mM\u001b[38;5;223mW\u001b[38;5;210mOkkkkk\u001b[38;5;216m0\u001b[38;5;224mM\u001b[38;5;15mMM\u001b[38;5;152mK\u001b[38;5;66mlllllllll\u001b[38;5;109mk\u001b[38;5;15mMMMMM\u001b[38;5;110m0\u001b[38;5;66mlllllllll\u001b[38;5;73mx\u001b[38;5;15mMMMMM\u001b[38;5;109mO\u001b[38;5;66mllllllllllllll\u001b[38;5;110m0\u001b[38;5;15mMMMM\u001b[38;5;188mM\u001b[38;5;73mx\u001b[38;5;66mlllllllllllll\u001b[38;5;109mO\u001b[0;0m\u001b[0m\n",
      "  indexer/rep-0@140510[I]:\u001b[38;5;217mN\u001b[38;5;210mkkkkkkkkk\u001b[38;5;224mM\u001b[38;5;15mM\u001b[38;5;152mK\u001b[38;5;66mllllllll\u001b[38;5;67mo\u001b[38;5;254mM\u001b[38;5;15mMMMMM\u001b[38;5;110m0\u001b[38;5;66mlllllllll\u001b[38;5;73mx\u001b[38;5;15mMMMMM\u001b[38;5;109mO\u001b[38;5;66mllllllllllllll\u001b[38;5;110m0\u001b[38;5;15mMMMMMM\u001b[38;5;253mW\u001b[38;5;109mO\u001b[38;5;73md\u001b[38;5;66molllllllll\u001b[38;5;109mO\u001b[0;0m\u001b[0m\n",
      "  indexer/rep-0@140510[I]:\u001b[38;5;217mK\u001b[38;5;210mkkkkkkkkk\u001b[38;5;217mN\u001b[38;5;15mM\u001b[38;5;152mK\u001b[38;5;66mlllllll\u001b[38;5;73md\u001b[38;5;188mM\u001b[38;5;15mMMMMMMM\u001b[38;5;188mWWWWWWWWW\u001b[38;5;255mM\u001b[38;5;15mMMMMMM\u001b[38;5;254mMMMMMMMMMMMMMM\u001b[38;5;15mMMMMMMMMMMM\u001b[38;5;255mMMMMMMMMM\u001b[38;5;15mM\u001b[0;0m\u001b[0m\n",
      "  indexer/rep-0@140510[I]:\u001b[38;5;224mM\u001b[38;5;210mOkkkkkkk\u001b[38;5;180m0\u001b[38;5;15mMM\u001b[38;5;152mK\u001b[38;5;66mlllll\u001b[38;5;73md\u001b[38;5;152mX\u001b[38;5;15mMMMMMMMMMMMMMMMMMMMMMMMMMMMMMMMMMMMMMMMMMMMMMMMMMMMMMMMMMMMM\u001b[0;0m\u001b[0m\n",
      "  indexer/rep-0@140510[I]:\u001b[38;5;15mMM\u001b[38;5;224mW\u001b[38;5;217mX\u001b[38;5;216m0\u001b[38;5;210m0\u001b[38;5;217mKX\u001b[38;5;224mM\u001b[38;5;15mMMM\u001b[38;5;152mX\u001b[38;5;73mx\u001b[38;5;109mk0\u001b[38;5;152mX\u001b[38;5;254mM\u001b[38;5;15mMMMMMMMMMMMMMMMMMMMMMMMMMMMMMMMMMMMMMMMMMMMMMMMMMMMMMMMMMMMMMM\u001b[0;0m\u001b[0m\n",
      "  indexer/rep-0@140510[I]:\u001b[0m\n",
      "  indexer/rep-0@140510[I]:▶️  /usr/local/bin/jina executor --uses config.yml --name indexer/rep-0 --workspace-id f4f8349e0e5c4768a85435480fbc5677 --polling ANY --uses-metas {\"workspace\": \"workspace\"} --port-in 61911 --native --upload-files --noblock-on-start\u001b[0m\n",
      "  indexer/rep-0@140510[I]:🔧️ \u001b[43m\u001b[34m                           cli = executor                      \u001b[0m\u001b[0m\n",
      "  indexer/rep-0@140510[I]:connection-list = None\u001b[0m\n",
      "  indexer/rep-0@140510[I]:daemon = False\u001b[0m\n",
      "  indexer/rep-0@140510[I]:disable-remote = False\u001b[0m\n",
      "  indexer/rep-0@140510[I]:docker-kwargs = None\u001b[0m\n",
      "  indexer/rep-0@140510[I]:entrypoint = None\u001b[0m\n",
      "  indexer/rep-0@140510[I]:env = None\u001b[0m\n",
      "  indexer/rep-0@140510[I]:expose-public = False\u001b[0m\n",
      "\u001b[32m⠼\u001b[0m 2/3 waiting \u001b[33mencoder\u001b[0m to be ready...                                                indexer/rep-0@140510[I]:extra-search-paths = []\u001b[0m\n",
      "  indexer/rep-0@140510[I]:force-update = False\u001b[0m\n",
      "  indexer/rep-0@140510[I]:gpus = None\u001b[0m\n",
      "  indexer/rep-0@140510[I]:host = 0.0.0.0\u001b[0m\n",
      "  indexer/rep-0@140510[I]:host-in = 0.0.0.0\u001b[0m\n",
      "  indexer/rep-0@140510[I]:install-requirements = False\u001b[0m\n",
      "  indexer/rep-0@140510[I]:🔧️ \u001b[43m\u001b[34m           k8s-connection-pool = True                          \u001b[0m\u001b[0m\n",
      "  indexer/rep-0@140510[I]:k8s-namespace = None\u001b[0m\n",
      "  indexer/rep-0@140510[I]:log-config = /usr/local/lib/python3.8/site-\u001b[0m\n",
      "  indexer/rep-0@140510[I]:🔧️ \u001b[43m\u001b[34m                          name = indexer/rep-0                 \u001b[0m\u001b[0m\n",
      "  indexer/rep-0@140510[I]:🔧️ \u001b[43m\u001b[34m                        native = True                          \u001b[0m\u001b[0m\n",
      "  indexer/rep-0@140510[I]:🔧️ \u001b[43m\u001b[34m              noblock-on-start = True                          \u001b[0m\u001b[0m\n",
      "  indexer/rep-0@140510[I]:pod-role = WORKER\u001b[0m\n",
      "  indexer/rep-0@140510[I]:polling = ANY\u001b[0m\n",
      "  indexer/rep-0@140510[I]:🔧️ \u001b[43m\u001b[34m                       port-in = 61911                         \u001b[0m\u001b[0m\n",
      "  indexer/rep-0@140510[I]:port-jinad = 8000\u001b[0m\n",
      "  indexer/rep-0@140510[I]:pull-latest = False\u001b[0m\n",
      "  indexer/rep-0@140510[I]:py-modules = None\u001b[0m\n",
      "  indexer/rep-0@140510[I]:quiet = False\u001b[0m\n",
      "  indexer/rep-0@140510[I]:quiet-error = False\u001b[0m\n",
      "  indexer/rep-0@140510[I]:quiet-remote-logs = False\u001b[0m\n",
      "  indexer/rep-0@140510[I]:replica-id = 0\u001b[0m\n",
      "  indexer/rep-0@140510[I]:replicas = 1\u001b[0m\n",
      "  indexer/rep-0@140510[I]:runtime-backend = PROCESS\u001b[0m\n",
      "  indexer/rep-0@140510[I]:runtime-cls = WorkerRuntime\u001b[0m\n",
      "  indexer/rep-0@140510[I]:shard-id = 0\u001b[0m\n",
      "  indexer/rep-0@140510[I]:shards = 1\u001b[0m\n",
      "  indexer/rep-0@140510[I]:timeout-ctrl = 60\u001b[0m\n",
      "\u001b[32m⠴\u001b[0m 2/3 waiting \u001b[33mencoder\u001b[0m to be ready...                                                indexer/rep-0@140510[I]:timeout-ready = 600000\u001b[0m\n",
      "  indexer/rep-0@140510[I]:🔧️ \u001b[43m\u001b[34m                  upload-files = []                            \u001b[0m\u001b[0m\n",
      "  indexer/rep-0@140510[I]:🔧️ \u001b[43m\u001b[34m                          uses = config.yml                    \u001b[0m\u001b[0m\n",
      "  indexer/rep-0@140510[I]:uses-after-address = None\u001b[0m\n",
      "  indexer/rep-0@140510[I]:uses-before-address = None\u001b[0m\n",
      "  indexer/rep-0@140510[I]:🔧️ \u001b[43m\u001b[34m                    uses-metas = {'workspace': 'workspace'}    \u001b[0m\u001b[0m\n",
      "  indexer/rep-0@140510[I]:uses-requests = None\u001b[0m\n",
      "  indexer/rep-0@140510[I]:uses-with = None\u001b[0m\n",
      "  indexer/rep-0@140510[I]:volumes = None\u001b[0m\n",
      "  indexer/rep-0@140510[I]:workspace = None\u001b[0m\n",
      "  indexer/rep-0@140510[I]:🔧️ \u001b[43m\u001b[34m                  workspace-id = f4f8349e0e5c4768a85435480fbc56\u001b[0m\u001b[0m\n",
      "  indexer/rep-0@140510[I]:\u001b[0m\n",
      "  indexer/rep-0@140510[I]:\u001b[32m  indexer/rep-0@ 1[L]: Executor SimpleIndexer started\u001b[0m\u001b[0m\n",
      "\u001b[32m⠹\u001b[0m 2/3 waiting \u001b[33mencoder\u001b[0m to be ready...                                                indexer/rep-0@140510[I]:\u001b[33m  indexer/rep-0@ 1[W]:You are using Jina version 3.0.3, however version 3.0.4 is available. You should consider upgrading via the \"pip install --upgrade jina\" command.\u001b[0m\u001b[0m\n",
      "           Flow@135398[I]:\u001b[32m🎉 Flow is ready to use!\u001b[0m                                         \n",
      "\t🔗 Protocol: \t\t\u001b[1mHTTP\u001b[0m\n",
      "\t🏠 Local access:\t\u001b[4m\u001b[36m0.0.0.0:12345\u001b[0m\n",
      "\t🔒 Private network:\t\u001b[4m\u001b[36m10.103.39.204:12345\u001b[0m\n",
      "\t💬 Swagger UI:\t\t\u001b[4m\u001b[36mhttp://localhost:12345/docs\u001b[0m\n",
      "\t📚 Redoc:\t\t\u001b[4m\u001b[36mhttp://localhost:12345/redoc\u001b[0m\u001b[0m\n",
      "<DocumentArray (length=5) at 140625324405760>\n",
      "\n",
      "Your search results\n",
      "===================\n",
      "\n",
      "<Document ('id', 'adjacency', 'mime_type', 'text', 'embedding', 'scores') at 48755c539b8411ec8f414321ff59fb80>\n",
      "-----------\n",
      "= Do You Know What Someone With No Money Has In Common With Someone With Too Much Money? Living Is No Fun For Them.\n",
      "\n",
      "<Document ('id', 'adjacency', 'mime_type', 'text', 'embedding', 'scores') at 48755c529b8411ec8f414321ff59fb80>\n",
      "-----------\n",
      "= This Is Hell. What Are The Rules In Hell?\n",
      "\n",
      "<Document ('id', 'adjacency', 'mime_type', 'text', 'embedding', 'scores') at 48755c549b8411ec8f414321ff59fb80>\n",
      "-----------\n",
      "= You Don’t Trust People Here Because You Can. You Do It Because You Don’t Have Anybody Else.\n",
      "\n",
      "<Document ('id', 'adjacency', 'mime_type', 'text', 'embedding', 'scores') at 48755c509b8411ec8f414321ff59fb80>\n",
      "-----------\n",
      "= I’m Good At Everything, Except The Things I Can’t Do.\n",
      "\n",
      "<Document ('id', 'adjacency', 'mime_type', 'text', 'embedding', 'scores') at 48755c519b8411ec8f414321ff59fb80>\n",
      "-----------\n",
      "= I Don’t Have A Home To Go Back To. In Here, I Stand A Chance At Least. But Out There? I Got Nothing Out There.\n",
      "\n"
     ]
    }
   ],
   "source": [
    "with flow:\n",
    "    \n",
    "    response = flow.search(inputs=query, return_results=True)\n",
    "\n",
    "    print_search_results(response)"
   ]
  },
  {
   "cell_type": "code",
   "execution_count": 15,
   "metadata": {},
   "outputs": [],
   "source": [
    "m = response[0].matches\n",
    "for n in m:\n",
    "    print(n.text)\n",
    "    print(\"-------------------------------------------\")"
   ]
  },
  {
   "cell_type": "code",
   "execution_count": 16,
   "metadata": {},
   "outputs": [
    {
     "ename": "IndexError",
     "evalue": "list index out of range",
     "output_type": "error",
     "traceback": [
      "\u001b[0;31m---------------------------------------------------------------------------\u001b[0m",
      "\u001b[0;31mIndexError\u001b[0m                                Traceback (most recent call last)",
      "\u001b[1;32m/home/achintya/Desktop/Code/OpenSource/Jina_AI/Jina_test/test2.ipynb Cell 13'\u001b[0m in \u001b[0;36m<module>\u001b[0;34m\u001b[0m\n\u001b[0;32m----> <a href='vscode-notebook-cell:/home/achintya/Desktop/Code/OpenSource/Jina_AI/Jina_test/test2.ipynb#ch0000012?line=0'>1</a>\u001b[0m m[\u001b[39m0\u001b[39;49m]\u001b[39m.\u001b[39mtags\n",
      "File \u001b[0;32m~/.local/lib/python3.9/site-packages/docarray/array/mixins/getitem.py:52\u001b[0m, in \u001b[0;36mGetItemMixin.__getitem__\u001b[0;34m(self, index)\u001b[0m\n\u001b[1;32m     <a href='file:///~/.local/lib/python3.9/site-packages/docarray/array/mixins/getitem.py?line=47'>48</a>\u001b[0m \u001b[39mdef\u001b[39;00m \u001b[39m__getitem__\u001b[39m(\n\u001b[1;32m     <a href='file:///~/.local/lib/python3.9/site-packages/docarray/array/mixins/getitem.py?line=48'>49</a>\u001b[0m     \u001b[39mself\u001b[39m, index: \u001b[39m'\u001b[39m\u001b[39mDocumentArrayIndexType\u001b[39m\u001b[39m'\u001b[39m\n\u001b[1;32m     <a href='file:///~/.local/lib/python3.9/site-packages/docarray/array/mixins/getitem.py?line=49'>50</a>\u001b[0m ) \u001b[39m-\u001b[39m\u001b[39m>\u001b[39m Union[\u001b[39m'\u001b[39m\u001b[39mDocument\u001b[39m\u001b[39m'\u001b[39m, \u001b[39m'\u001b[39m\u001b[39mDocumentArray\u001b[39m\u001b[39m'\u001b[39m]:\n\u001b[1;32m     <a href='file:///~/.local/lib/python3.9/site-packages/docarray/array/mixins/getitem.py?line=50'>51</a>\u001b[0m     \u001b[39mif\u001b[39;00m \u001b[39misinstance\u001b[39m(index, (\u001b[39mint\u001b[39m, np\u001b[39m.\u001b[39mgeneric)) \u001b[39mand\u001b[39;00m \u001b[39mnot\u001b[39;00m \u001b[39misinstance\u001b[39m(index, \u001b[39mbool\u001b[39m):\n\u001b[0;32m---> <a href='file:///~/.local/lib/python3.9/site-packages/docarray/array/mixins/getitem.py?line=51'>52</a>\u001b[0m         \u001b[39mreturn\u001b[39;00m \u001b[39mself\u001b[39;49m\u001b[39m.\u001b[39;49m_get_doc_by_offset(\u001b[39mint\u001b[39;49m(index))\n\u001b[1;32m     <a href='file:///~/.local/lib/python3.9/site-packages/docarray/array/mixins/getitem.py?line=52'>53</a>\u001b[0m     \u001b[39melif\u001b[39;00m \u001b[39misinstance\u001b[39m(index, \u001b[39mstr\u001b[39m):\n\u001b[1;32m     <a href='file:///~/.local/lib/python3.9/site-packages/docarray/array/mixins/getitem.py?line=53'>54</a>\u001b[0m         \u001b[39mif\u001b[39;00m index\u001b[39m.\u001b[39mstartswith(\u001b[39m'\u001b[39m\u001b[39m@\u001b[39m\u001b[39m'\u001b[39m):\n",
      "File \u001b[0;32m~/.local/lib/python3.9/site-packages/docarray/array/storage/base/getsetdel.py:52\u001b[0m, in \u001b[0;36mBaseGetSetDelMixin._get_doc_by_offset\u001b[0;34m(self, offset)\u001b[0m\n\u001b[1;32m     <a href='file:///~/.local/lib/python3.9/site-packages/docarray/array/storage/base/getsetdel.py?line=50'>51</a>\u001b[0m \u001b[39mdef\u001b[39;00m \u001b[39m_get_doc_by_offset\u001b[39m(\u001b[39mself\u001b[39m, offset: \u001b[39mint\u001b[39m) \u001b[39m-\u001b[39m\u001b[39m>\u001b[39m \u001b[39m'\u001b[39m\u001b[39mDocument\u001b[39m\u001b[39m'\u001b[39m:\n\u001b[0;32m---> <a href='file:///~/.local/lib/python3.9/site-packages/docarray/array/storage/base/getsetdel.py?line=51'>52</a>\u001b[0m     \u001b[39mreturn\u001b[39;00m \u001b[39mself\u001b[39m\u001b[39m.\u001b[39m_get_doc_by_id(\u001b[39mself\u001b[39;49m\u001b[39m.\u001b[39;49m_offset2ids\u001b[39m.\u001b[39;49mget_id(offset))\n",
      "File \u001b[0;32m~/.local/lib/python3.9/site-packages/docarray/array/storage/base/helper.py:9\u001b[0m, in \u001b[0;36mOffset2ID.get_id\u001b[0;34m(self, idx)\u001b[0m\n\u001b[1;32m      <a href='file:///~/.local/lib/python3.9/site-packages/docarray/array/storage/base/helper.py?line=7'>8</a>\u001b[0m \u001b[39mdef\u001b[39;00m \u001b[39mget_id\u001b[39m(\u001b[39mself\u001b[39m, idx):\n\u001b[0;32m----> <a href='file:///~/.local/lib/python3.9/site-packages/docarray/array/storage/base/helper.py?line=8'>9</a>\u001b[0m     \u001b[39mreturn\u001b[39;00m \u001b[39mself\u001b[39;49m\u001b[39m.\u001b[39;49mids[idx]\n",
      "\u001b[0;31mIndexError\u001b[0m: list index out of range"
     ]
    }
   ],
   "source": [
    "m[0].tags"
   ]
  },
  {
   "cell_type": "code",
   "execution_count": null,
   "metadata": {},
   "outputs": [],
   "source": []
  }
 ],
 "metadata": {
  "interpreter": {
   "hash": "916dbcbb3f70747c44a77c7bcd40155683ae19c65e1c03b4aa3499c5328201f1"
  },
  "kernelspec": {
   "display_name": "Python 3.9.7 64-bit",
   "language": "python",
   "name": "python3"
  },
  "language_info": {
   "codemirror_mode": {
    "name": "ipython",
    "version": 3
   },
   "file_extension": ".py",
   "mimetype": "text/x-python",
   "name": "python",
   "nbconvert_exporter": "python",
   "pygments_lexer": "ipython3",
   "version": "3.9.7"
  },
  "orig_nbformat": 4
 },
 "nbformat": 4,
 "nbformat_minor": 2
}
